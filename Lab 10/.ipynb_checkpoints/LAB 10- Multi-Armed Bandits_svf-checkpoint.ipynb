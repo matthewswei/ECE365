{
 "cells": [
  {
   "cell_type": "markdown",
   "metadata": {},
   "source": [
    "## Lab 10\n",
    "## Gaussian Bandits: Exploration vs. Exploitation \n",
    "\n",
    "# Deadline: 14 December 2023 \n",
    "\n",
    "\n",
    "In this lab, we will explore the trade-off between exploration and exploitation in a two-arm Gaussian bandit setting. The goal is to understand how different sampling strategies impact the cumulative reward obtained by an agent over time and how not-exploring enough prevents the agents from learning the distributions.\n",
    "\n",
    "Key Components of Multi-Armed Bandits:\n",
    "\n",
    "1) Arms:\n",
    "\n",
    "Each arm represents an action or decision that the agent can take.\n",
    "Pulling an arm corresponds to selecting an action or making a decision.\n",
    "\n",
    "2) Rewards:\n",
    "\n",
    "When an arm is pulled, a reward is received from a probability distribution associated with that arm.\n",
    "The distribution of rewards for each arm is initially unknown to the agent.\n",
    "\n",
    "3) Exploration vs. Exploitation:\n",
    "\n",
    "Exploration: Trying different arms to gather information about their reward distributions.\n",
    "Exploitation: Leveraging gathered information to maximize rewards by choosing arms that seem to be the best based on the available knowledge.\n",
    "\n",
    "4) Regret:\n",
    "\n",
    "In multi-armed bandit problems, regret is a metric that measures the opportunity loss incurred by not always selecting the best arm.\n",
    "It quantifies how much the cumulative reward earned by the agent deviates from the maximum possible cumulative reward achievable by always selecting the best arm.\n",
    "\n"
   ]
  },
  {
   "cell_type": "markdown",
   "metadata": {},
   "source": [
    "\n",
    "Imagine a scenario with two arms (A and B) with reward distributions as Gaussian: \n",
    "Arm A with mean 5 and variance $\\sigma$. and\n",
    "Arm B with mean $\\mu$ and variance 1.\n",
    "\n",
    "In this lab $\\mu$ will always be greater than $5$.\n",
    "\n",
    "An oracle with full-knowledge of the distributions will always select arm B. However, when an agent does not have any information regarding the distributions (other than the distributions being Gaussian), finding the optimal arm takes some time. In this problem, the regret that agent obtains depends on how many times, it selects the arm A (which is the suboptimal arm). Let us denote the total number of times arm A is selected as $n_A$. Then the cumulative regret will be $n_A* (\\mu - 5)$.\n",
    "\n",
    "\n",
    "\n",
    "\n"
   ]
  },
  {
   "cell_type": "markdown",
   "metadata": {
    "pycharm": {
     "is_executing": false
    }
   },
   "source": [
    "## The Simulation Environment\n",
    "\n",
    "The time horizon of a single simulation will be denoted as T.\n",
    "\n",
    "1) Create variables that keep track of the average reward obtained by pullin the arms, and how many times those arms are selected. Maintain variables num_trial_arm_a and average_reward_arm_a for Arm A and num_trial_arm_b and average_reward_arm_b for Arm B, to keep track of the number of times each arm is chosen and their respective average rewards. \n",
    "\n",
    "2) Create a For loop for $t=  1:T$.\n",
    "\n",
    "3) At each iteration $t$, the agent will choose one arm using a function that will be specified.\n",
    "\n",
    "4) At each iteration $t$, the agent will obtain a reward. The reward will be sampled from the distribution $\\mathcal{N}(5,\\sigma)$ if the agent pulls arm A. The reward will be sampled from the distribution $\\mathcal{N}(\\mu,1)$ if the agent pulls arm B. You can use the numpy.random.normal function for generating the samples.\n",
    "\n",
    "5) At each iteration $t$, the agent will increasenum_trial_arm_ $i$ by one when it selects arm $i$ for $i \\in \\{ A,B\\}$.\n",
    "\n",
    "6) At each iteration $t$, the agent will update the average observed rewards (average_reward_arm_ $i$ ).\n"
   ]
  },
  {
   "cell_type": "markdown",
   "metadata": {},
   "source": [
    "\n",
    "## Sampling Function for Part 1\n",
    "\n",
    "The million dollar question in  Multi-Armed Bandit problems is how to select the sampling function. In the first question, you will act as a myopic agent. At each iteration of $t$, you are going to call a function called: sample_arm_greedy(average_reward_arm_a,average_reward_arm_b). \n",
    "\n",
    "The function will output which arm to select. If average_reward_arm_a $>$ average_reward_arm_b, the agent will sample arm A, if not it will sample the arm B.\n",
    "\n",
    "Here, at every single iteration the agent acts greedily. It does not explores but fully exploits. \n",
    "\n",
    "## Part 1 Tasks (40 Points):\n",
    "\n",
    "\n",
    "1) Write a code for simulating the given environment and the greedy sampling function.\n",
    "\n",
    "2) Run simulations for $T = 200$ and $\\sigma \\in  \\{0.1, 1,5,10\\}$, $\\mu \\in  \\{5.001,5.1,10\\}$. Run $100$ simulations FOR EACH $(\\mu,\\sigma)$ pair and calculate the average cumulative regret FOR EACH $(\\mu,\\sigma)$ pair. This will be the sum of all simulation-wise cumulative regrets divided by 100. For a single simulation, the cumulative regret is given as num_trial_arm_A(T)$*(\\mu - 5)$ where num_trial_arm_A(T) is the value of num_trial_arm_A at the end of iteration $t = T$ Do not forget to make average-reward_ $i$ and num_trial_arm_ $i$ zero at the start of every simulation.\n",
    "\n",
    "3) Run 100 simulation for $T = 1000$ with $\\sigma = 5$ and $\\mu = 5.1$. Calculate the average amount of time arm A is played at each iteration (The averaging is done over the 100 simulations.). Let us denote that vector as $n_A^T$. (Note that this vector will have length $T$) Generate another vector $v$ such that $v(i) = \\sum_{j =1}^i n_A^T(j))$. Plot t vs v.\n",
    "\n",
    "4) Run 100 simulation for $T = 1000$ with $\\sigma = 0.1$ and $\\mu = 5.1$. Calculate the average amount of time arm A is played at each iteration. Let us denote that vector as $n_A^T$. Generate another vector $v$ such that $v(i) = \\sum_{j =1}^i n_A^T(j))$. Plot t vs v.\n",
    "\n",
    "\n",
    "5) Run 100 simulation for $T = 1000$ with $\\sigma = 1$ and $\\mu = 5.1$. Calculate the average amount of time arm A is played at each iteration. Let us denote that vector as $n_A^T$. Generate another vector $v$ such that $v(i) = \\sum_{j =1}^i n_A^T(j))$. Plot t vs v."
   ]
  },
  {
   "cell_type": "code",
   "execution_count": 79,
   "metadata": {},
   "outputs": [],
   "source": [
    "# Code for problem 1.1\n",
    "import numpy as np\n",
    "import matplotlib.pyplot as plt\n",
    "\n",
    "def sample_arm_greedy(average_reward_arm_a, average_reward_arm_b):\n",
    "    if average_reward_arm_a > average_reward_arm_b:\n",
    "        return 'A'\n",
    "    else:\n",
    "        return 'B'"
   ]
  },
  {
   "cell_type": "code",
   "execution_count": 92,
   "metadata": {},
   "outputs": [
    {
     "name": "stdout",
     "output_type": "stream",
     "text": [
      "For muse = 5.001 sigma = 0.1 : 0.16928000000005639\n",
      "For muse = 5.1 sigma = 0.1 : 14.918999999999947\n",
      "For muse = 10 sigma = 0.1 : 5.0\n",
      "For muse = 5.001 sigma = 1 : 0.09693000000003245\n",
      "For muse = 5.1 sigma = 1 : 8.963999999999977\n",
      "For muse = 10 sigma = 1 : 5.0\n",
      "For muse = 5.001 sigma = 5 : 0.05127000000001712\n",
      "For muse = 5.1 sigma = 5 : 3.7319999999999878\n",
      "For muse = 10 sigma = 5 : 6.2\n",
      "For muse = 5.001 sigma = 10 : 0.032500000000010854\n",
      "For muse = 5.1 sigma = 10 : 2.117999999999991\n",
      "For muse = 10 sigma = 10 : 12.95\n"
     ]
    }
   ],
   "source": [
    "# Code for problem 1.2\n",
    "num_simulations = 100\n",
    "T = 200\n",
    "sigma_val = [0.1, 1, 5, 10]\n",
    "mu_val = [5.001, 5.1, 10]\n",
    "average_regrets = np.zeros(12)\n",
    "\n",
    "for sim in range(num_simulations):\n",
    "    count = 0\n",
    "    for sigma in sigma_val:\n",
    "        for mu in mu_val:\n",
    "            num_trial_arm_a = 0\n",
    "            num_trial_arm_b = 0\n",
    "            average_reward_arm_a = 0\n",
    "            average_reward_arm_b = 0\n",
    "            for t in range(1, T+1):\n",
    "                chosen_arm = sample_arm_greedy(average_reward_arm_a, average_reward_arm_b)\n",
    "                if t==1:\n",
    "                    reward = np.random.normal(5, sigma)\n",
    "                    num_trial_arm_a+=1\n",
    "                    average_reward_arm_a+=reward\n",
    "                elif t==2:\n",
    "                    reward = np.random.normal(mu, 1)\n",
    "                    num_trial_arm_b+=1\n",
    "                    average_reward_arm_b+=reward\n",
    "                elif chosen_arm=='A':\n",
    "                    reward = np.random.normal(5, sigma)\n",
    "                    num_trial_arm_a+=1\n",
    "                    average_reward_arm_a = (average_reward_arm_a*(num_trial_arm_a-1)+reward)/num_trial_arm_a\n",
    "                else:\n",
    "                    reward = np.random.normal(mu, 1)\n",
    "                    num_trial_arm_b+=1\n",
    "                    average_reward_arm_b = (average_reward_arm_b*(num_trial_arm_b-1)+reward)/num_trial_arm_b\n",
    "            average_regrets[count]+=num_trial_arm_a*(mu - 5)\n",
    "            count+=1\n",
    "            \n",
    "for i in range (len(average_regrets)):\n",
    "    average_regrets[i]/=100\n",
    "    \n",
    "print('For muse = 5.001 sigma = 0.1 :', average_regrets[0])\n",
    "print('For muse = 5.1 sigma = 0.1 :', average_regrets[1])\n",
    "print('For muse = 10 sigma = 0.1 :', average_regrets[2])\n",
    "print('For muse = 5.001 sigma = 1 :', average_regrets[3])\n",
    "print('For muse = 5.1 sigma = 1 :', average_regrets[4])\n",
    "print('For muse = 10 sigma = 1 :', average_regrets[5])\n",
    "print('For muse = 5.001 sigma = 5 :', average_regrets[6])\n",
    "print('For muse = 5.1 sigma = 5 :', average_regrets[7])\n",
    "print('For muse = 10 sigma = 5 :', average_regrets[8])\n",
    "print('For muse = 5.001 sigma = 10 :', average_regrets[9])\n",
    "print('For muse = 5.1 sigma = 10 :', average_regrets[10])\n",
    "print('For muse = 10 sigma = 10 :', average_regrets[11])"
   ]
  },
  {
   "cell_type": "code",
   "execution_count": 93,
   "metadata": {},
   "outputs": [
    {
     "data": {
      "image/png": "[encoded data removed]",
      "text/plain": [
       "<Figure size 720x432 with 1 Axes>"
      ]
     },
     "metadata": {
      "needs_background": "light"
     },
     "output_type": "display_data"
    }
   ],
   "source": [
    "# Code for problem 1.3\n",
    "T = 1000\n",
    "num_simulations = 100\n",
    "mu = 5.1\n",
    "sigma = 5\n",
    "naT = np.zeros(T)\n",
    "v = np.zeros(T)\n",
    "\n",
    "for sim in range(num_simulations):\n",
    "    num_trial_arm_a = 0\n",
    "    num_trial_arm_b = 0\n",
    "    average_reward_arm_a = 0\n",
    "    average_reward_arm_b = 0\n",
    "    for t in range(1, T+1):\n",
    "        chosen_arm = sample_arm_greedy(average_reward_arm_a, average_reward_arm_b)\n",
    "        if t==1:\n",
    "            reward = np.random.normal(5, sigma)\n",
    "            num_trial_arm_a+=1\n",
    "            average_reward_arm_a+=reward\n",
    "            naT[t-1]+=1\n",
    "        elif t==2:\n",
    "            reward = np.random.normal(mu, 1)\n",
    "            num_trial_arm_b+=1\n",
    "            average_reward_arm_b+=reward\n",
    "        elif chosen_arm=='A':\n",
    "            reward = np.random.normal(5, sigma)\n",
    "            num_trial_arm_a+=1\n",
    "            average_reward_arm_a = (average_reward_arm_a*(num_trial_arm_a-1)+reward)/num_trial_arm_a\n",
    "            naT[t-1]+=1\n",
    "        else:\n",
    "            reward = np.random.normal(mu, 1)\n",
    "            num_trial_arm_b+=1\n",
    "            average_reward_arm_b = (average_reward_arm_b*(num_trial_arm_b-1)+reward)/num_trial_arm_b\n",
    "        \n",
    "for i in range (T):\n",
    "    naT[i]/=num_simulations\n",
    "    \n",
    "cumulative = 0\n",
    "for i in range (T):\n",
    "    cumulative+=naT[i]\n",
    "    v[i]+=cumulative\n",
    "\n",
    "plt.figure(figsize=(10, 6))\n",
    "plt.plot(range(1, T + 1), naT, label='naT')\n",
    "plt.plot(range(1, T + 1), v, label='v')\n",
    "plt.xlabel('t')\n",
    "plt.ylabel('v')\n",
    "plt.legend()\n",
    "plt.title('Arm A Selection Over Time')\n",
    "plt.show()"
   ]
  },
  {
   "cell_type": "code",
   "execution_count": 97,
   "metadata": {},
   "outputs": [
    {
     "data": {
      "image/png": "[encoded data removed]",
      "text/plain": [
       "<Figure size 720x432 with 1 Axes>"
      ]
     },
     "metadata": {
      "needs_background": "light"
     },
     "output_type": "display_data"
    }
   ],
   "source": [
    "# Code for problem 1.4\n",
    "T = 1000\n",
    "num_simulations = 100\n",
    "mu = 0.1\n",
    "sigma = 5\n",
    "naT = np.zeros(T)\n",
    "v = np.zeros(T)\n",
    "\n",
    "for sim in range(num_simulations):\n",
    "    num_trial_arm_a = 0\n",
    "    num_trial_arm_b = 0\n",
    "    average_reward_arm_a = 0\n",
    "    average_reward_arm_b = 0\n",
    "    for t in range(1, T+1):\n",
    "        chosen_arm = sample_arm_greedy(average_reward_arm_a, average_reward_arm_b)\n",
    "        if t==1:\n",
    "            reward = np.random.normal(5, sigma)\n",
    "            num_trial_arm_a+=1\n",
    "            average_reward_arm_a+=reward\n",
    "            naT[t-1]+=1\n",
    "        elif t==2:\n",
    "            reward = np.random.normal(mu, 1)\n",
    "            num_trial_arm_b+=1\n",
    "            average_reward_arm_b+=reward\n",
    "        elif chosen_arm=='A':\n",
    "            reward = np.random.normal(5, sigma)\n",
    "            num_trial_arm_a+=1\n",
    "            average_reward_arm_a = (average_reward_arm_a*(num_trial_arm_a-1)+reward)/num_trial_arm_a\n",
    "            naT[t-1]+=1\n",
    "        else:\n",
    "            reward = np.random.normal(mu, 1)\n",
    "            num_trial_arm_b+=1\n",
    "            average_reward_arm_b = (average_reward_arm_b*(num_trial_arm_b-1)+reward)/num_trial_arm_b\n",
    "        \n",
    "for i in range (T):\n",
    "    naT[i]/=num_simulations\n",
    "    \n",
    "cumulative = 0\n",
    "for i in range (T):\n",
    "    cumulative+=naT[i]\n",
    "    v[i]+=cumulative\n",
    "\n",
    "plt.figure(figsize=(10, 6))\n",
    "plt.plot(range(1, T + 1), naT, label='naT')\n",
    "plt.plot(range(1, T + 1), v, label='v')\n",
    "plt.xlabel('t')\n",
    "plt.ylabel('v')\n",
    "plt.legend()\n",
    "plt.title('Arm A Selection Over Time')\n",
    "plt.show()"
   ]
  },
  {
   "cell_type": "code",
   "execution_count": 98,
   "metadata": {},
   "outputs": [
    {
     "data": {
      "image/png": "[encoded data removed]",
      "text/plain": [
       "<Figure size 720x432 with 1 Axes>"
      ]
     },
     "metadata": {
      "needs_background": "light"
     },
     "output_type": "display_data"
    }
   ],
   "source": [
    "# Code for problem 1.5\n",
    "T = 1000\n",
    "num_simulations = 100\n",
    "mu = 1\n",
    "sigma = 5\n",
    "naT = np.zeros(T)\n",
    "v = np.zeros(T)\n",
    "\n",
    "for sim in range(num_simulations):\n",
    "    num_trial_arm_a = 0\n",
    "    num_trial_arm_b = 0\n",
    "    average_reward_arm_a = 0\n",
    "    average_reward_arm_b = 0\n",
    "    for t in range(1, T+1):\n",
    "        chosen_arm = sample_arm_greedy(average_reward_arm_a, average_reward_arm_b)\n",
    "        if t==1:\n",
    "            reward = np.random.normal(5, sigma)\n",
    "            num_trial_arm_a+=1\n",
    "            average_reward_arm_a+=reward\n",
    "            naT[t-1]+=1\n",
    "        elif t==2:\n",
    "            reward = np.random.normal(mu, 1)\n",
    "            num_trial_arm_b+=1\n",
    "            average_reward_arm_b+=reward\n",
    "        elif chosen_arm=='A':\n",
    "            reward = np.random.normal(5, sigma)\n",
    "            num_trial_arm_a+=1\n",
    "            average_reward_arm_a = (average_reward_arm_a*(num_trial_arm_a-1)+reward)/num_trial_arm_a\n",
    "            naT[t-1]+=1\n",
    "        else:\n",
    "            reward = np.random.normal(mu, 1)\n",
    "            num_trial_arm_b+=1\n",
    "            average_reward_arm_b = (average_reward_arm_b*(num_trial_arm_b-1)+reward)/num_trial_arm_b\n",
    "        \n",
    "for i in range (T):\n",
    "    naT[i]/=num_simulations\n",
    "    \n",
    "cumulative = 0\n",
    "for i in range (T):\n",
    "    cumulative+=naT[i]\n",
    "    v[i]+=cumulative\n",
    "\n",
    "plt.figure(figsize=(10, 6))\n",
    "plt.plot(range(1, T + 1), naT, label='naT')\n",
    "plt.plot(range(1, T + 1), v, label='v')\n",
    "plt.xlabel('t')\n",
    "plt.ylabel('v')\n",
    "plt.legend()\n",
    "plt.title('Arm A Selection Over Time')\n",
    "plt.show()"
   ]
  },
  {
   "cell_type": "markdown",
   "metadata": {},
   "source": [
    "\n",
    "## Sampling Function for Part 2\n",
    "\n",
    "In the second part, you will utilize the ETC algorithm. The algorithm can be found in the 6.1 Algorithm and Regret Analysis section of Bandit Algorithms book by Tor Lattimore and Csaba Szepesv´ari. Note that this algorithm is dependent on the variance of the rewards. Thus for simplicity, we will use the following rewards distributions: Arm A with reward distribution $\\mathcal{N}(5,1)$ and Arm B with reward distribution $\\mathcal{N}(\\mu,1)$.\n",
    "\n",
    " At each iteration of $t$, you are going to call a function called: sample_arm_ETC(average_reward_arm_a,average_reward_arm_b,t). \n",
    "\n",
    " The agent will explore each arm $m$ times, and after $t>2m$, the agent will exploit by selecting the arm with the highest average reward. Select $m$ as $\\sqrt{T}/2$, unless it is asked otherwise.\n",
    "\n",
    "\n",
    "## Part 2 Tasks (30 Points):\n",
    "\n",
    "\n",
    "1) Write a code for the ETC sampling function.\n",
    "\n",
    "2) Run simulations for $T = 200$ and  $\\mu \\in  \\{5.001,5.1,10\\}$. Run $100$ simulations FOR EACH $\\mu$ value and calculate the average cumulative regret FOR EACH $\\mu$ . (It will be the sum of all simulation-wise cumulative regrets divided by 100.) Comment on the affect of changing $\\mu$ .\n",
    "\n",
    "3) Run 100 simulation for $T = 1000$ with $\\sigma = 1$. Calculate the average amount of time arm A is played at each iteration. Let us denote that vector as $n_A^T$. Generate another vector $v$ such that $v(i) = \\sum_{j =1}^i n_A^T(j))$. Plot t vs v. Compare it with the greedy sampling strategy.\n",
    "\n",
    "4) Run simulations for $T = 200$,  $\\mu =  \\{5.1\\}$ and $m \\in \\{\\sqrt{T}/4, \\sqrt{T}/2,T/2\\}$. Comment on the affect of the exploration parameter $m$. Connect that to the regret bound given by Theorem 6.1 in Bandit Algorithms book.\n",
    "\n"
   ]
  },
  {
   "cell_type": "code",
   "execution_count": 99,
   "metadata": {},
   "outputs": [],
   "source": [
    "# Code for problem 2.1\n",
    "\n",
    "import math\n",
    "\n",
    "def sample_arm_ETC(average_reward_arm_a, average_reward_arm_b,t,m):\n",
    "    if t<=2*m:\n",
    "        if t%2==0:\n",
    "            return 'A'\n",
    "        else:\n",
    "            return 'B'\n",
    "    else:\n",
    "        if average_reward_arm_a > average_reward_arm_b:\n",
    "            return 'A'\n",
    "        else:\n",
    "            return 'B'"
   ]
  },
  {
   "cell_type": "code",
   "execution_count": 100,
   "metadata": {},
   "outputs": [
    {
     "name": "stdout",
     "output_type": "stream",
     "text": [
      "For muse = 5.001 : 0.1009600000000337\n",
      "For muse = 5.1 : 7.587999999999981\n",
      "For muse = 10 : 35.0\n"
     ]
    }
   ],
   "source": [
    "# Code for problem 2.2\n",
    "\n",
    "num_simulations = 100\n",
    "T = 200\n",
    "mu_val = [5.001, 5.1, 10]\n",
    "m = math.sqrt(T)/2\n",
    "average_regrets = np.zeros(3)\n",
    "\n",
    "for sim in range(num_simulations):\n",
    "    count = 0\n",
    "    for mu in mu_val:\n",
    "        num_trial_arm_a = 0\n",
    "        num_trial_arm_b = 0\n",
    "        average_reward_arm_a = 0\n",
    "        average_reward_arm_b = 0\n",
    "        for t in range(1, T+1):\n",
    "            chosen_arm = sample_arm_ETC(average_reward_arm_a, average_reward_arm_b,t,m)\n",
    "            if chosen_arm=='A':\n",
    "                reward = np.random.normal(5, 1)\n",
    "                num_trial_arm_a+=1\n",
    "                average_reward_arm_a = (average_reward_arm_a*(num_trial_arm_a-1)+reward)/num_trial_arm_a\n",
    "            else:\n",
    "                reward = np.random.normal(mu, 1)\n",
    "                num_trial_arm_b+=1\n",
    "                average_reward_arm_b = (average_reward_arm_b*(num_trial_arm_b-1)+reward)/num_trial_arm_b\n",
    "        average_regrets[count]+=num_trial_arm_a*(mu - 5)\n",
    "        count+=1\n",
    "            \n",
    "for i in range (len(average_regrets)):\n",
    "    average_regrets[i]/=100\n",
    "    \n",
    "print('For muse = 5.001 :', average_regrets[0])\n",
    "print('For muse = 5.1 :', average_regrets[1])\n",
    "print('For muse = 10 :', average_regrets[2])"
   ]
  },
  {
   "cell_type": "markdown",
   "metadata": {},
   "source": [
    "Changing the value of muse seems to change the average number of regrets. In particular, as muse increases, so does the average number of regrets."
   ]
  },
  {
   "cell_type": "code",
   "execution_count": 101,
   "metadata": {},
   "outputs": [
    {
     "data": {
      "image/png": "[encoded data removed]",
      "text/plain": [
       "<Figure size 720x432 with 1 Axes>"
      ]
     },
     "metadata": {
      "needs_background": "light"
     },
     "output_type": "display_data"
    }
   ],
   "source": [
    "# Code for problem 2.3\n",
    "\n",
    "num_simulations = 100\n",
    "T = 1000\n",
    "mu = 5.1\n",
    "m = math.sqrt(T)/2\n",
    "naT = np.zeros(T)\n",
    "v = np.zeros(T)\n",
    "\n",
    "\n",
    "for sim in range(num_simulations):\n",
    "    num_trial_arm_a = 0\n",
    "    num_trial_arm_b = 0\n",
    "    average_reward_arm_a = 0\n",
    "    average_reward_arm_b = 0\n",
    "    for t in range(1, T+1):\n",
    "        chosen_arm = sample_arm_ETC(average_reward_arm_a, average_reward_arm_b,t,m)\n",
    "        if chosen_arm=='A':\n",
    "            reward = np.random.normal(5, 1)\n",
    "            num_trial_arm_a+=1\n",
    "            average_reward_arm_a = (average_reward_arm_a*(num_trial_arm_a-1)+reward)/num_trial_arm_a\n",
    "            naT[t-1]+=1\n",
    "        else:\n",
    "            reward = np.random.normal(mu, 1)\n",
    "            num_trial_arm_b+=1\n",
    "            average_reward_arm_b = (average_reward_arm_b*(num_trial_arm_b-1)+reward)/num_trial_arm_b\n",
    "            \n",
    "for i in range (T):\n",
    "    naT[i]/=num_simulations\n",
    "    \n",
    "cumulative = 0\n",
    "for i in range (T):\n",
    "    cumulative+=naT[i]\n",
    "    v[i]+=cumulative\n",
    "\n",
    "plt.figure(figsize=(10, 6))\n",
    "plt.plot(range(1, T + 1), naT, label='naT')\n",
    "plt.plot(range(1, T + 1), v, label='v')\n",
    "plt.xlabel('t')\n",
    "plt.ylabel('v')\n",
    "plt.legend()\n",
    "plt.title('Arm A Selection Over Time')\n",
    "plt.show()"
   ]
  },
  {
   "cell_type": "markdown",
   "metadata": {},
   "source": [
    "Compared to the greedy algorithm, there seems to be less times arm a has been selected."
   ]
  },
  {
   "cell_type": "code",
   "execution_count": 112,
   "metadata": {},
   "outputs": [
    {
     "name": "stdout",
     "output_type": "stream",
     "text": [
      "For m = sqrt(T)/4 : 36.03399999999985\n",
      "For m = sqrt(T)/2 : 29.6969999999999\n",
      "For m = T/2 : 49.99999999999991\n"
     ]
    }
   ],
   "source": [
    "# Code for problem 2.4\n",
    "\n",
    "num_simulations = 100\n",
    "T = 1000\n",
    "mu = 5.1\n",
    "m_vals = [math.sqrt(T)/4, math.sqrt(T)/2, T/2]\n",
    "average_regrets = np.zeros(3)\n",
    "\n",
    "for sim in range(num_simulations):\n",
    "    count = 0\n",
    "    for m in m_vals:\n",
    "        num_trial_arm_a = 0\n",
    "        num_trial_arm_b = 0\n",
    "        average_reward_arm_a = 0\n",
    "        average_reward_arm_b = 0\n",
    "        for t in range(1, T+1):\n",
    "            chosen_arm = sample_arm_ETC(average_reward_arm_a, average_reward_arm_b,t,m)\n",
    "            if chosen_arm=='A':\n",
    "                reward = np.random.normal(5, 1)\n",
    "                num_trial_arm_a+=1\n",
    "                average_reward_arm_a = (average_reward_arm_a*(num_trial_arm_a-1)+reward)/num_trial_arm_a\n",
    "            else:\n",
    "                reward = np.random.normal(mu, 1)\n",
    "                num_trial_arm_b+=1\n",
    "                average_reward_arm_b = (average_reward_arm_b*(num_trial_arm_b-1)+reward)/num_trial_arm_b\n",
    "        average_regrets[count]+=num_trial_arm_a*(mu - 5)\n",
    "        count+=1\n",
    "            \n",
    "for i in range (len(average_regrets)):\n",
    "    average_regrets[i]/=100\n",
    "    \n",
    "print('For m = sqrt(T)/4 :', average_regrets[0])\n",
    "print('For m = sqrt(T)/2 :', average_regrets[1])\n",
    "print('For m = T/2 :', average_regrets[2]) "
   ]
  },
  {
   "cell_type": "markdown",
   "metadata": {},
   "source": [
    "As m increases, it seems that the error bound increases along with it. The regret bound essentially composed of both the regret in the exploration and explotation. In the bound equation, both are dependent on m, so it makes since that as m increases the bound will increase."
   ]
  },
  {
   "cell_type": "markdown",
   "metadata": {},
   "source": [
    "\n",
    "## Sampling Function for Part 3\n",
    "\n",
    "In the third part, you will utilize the UCB algorithm. The algorithm can be found in the 7.1 Algorithm and Regret Analysis section of Bandit Algorithms book by Tor Lattimore and Csaba Szepesv´ari. It is the Algorithm 3.  Note that this algorithm is dependent on the variance of the rewards. Thus for simplicity, we will use the following rewards distributions: Arm A with reward distribution $\\mathcal{N}(5,1)$ and Arm B with reward distribution $\\mathcal{N}(\\mu,1)$.\n",
    "\n",
    " At each iteration of $t$, you are going to call a function called: sample_arm_UCB(average_reward_arm_a,average_reward_arm_b, num_trial_arm_A, num_trial_arm_B, t). \n",
    "\n",
    " Select the $\\delta$ in the algorithm as $1/T^2$.\n",
    "\n",
    "\n",
    "\n",
    "## Part 3 Tasks (30 Points):\n",
    "\n",
    "\n",
    "\n",
    "1) Write a code for the UCB sampling function.\n",
    "\n",
    "Select $\\delta$ as $1/T^2$.\n",
    "\n",
    "\n",
    "2) Run 100 simulation for $T = 1000$ with $\\sigma = 1$. Calculate the average amount of time arm A is played at each iteration. Let us denote that vector as $n_A^T$. Generate another vector $v$ such that $v(i) = \\sum_{j =1}^i n_A^T(j))$. Plot t vs v. Compare it with the greedy sampling strategy and the ETC algorithm. \n",
    "\n",
    "4) Run simulations for $T = 200$ and  $\\mu =  \\{5.1\\}$ and $\\delta = 1/T$. Comment on the affect of the exploration parameter $\\delta$. "
   ]
  },
  {
   "cell_type": "code",
   "execution_count": 103,
   "metadata": {},
   "outputs": [],
   "source": [
    "# Code for problem 4.1\n",
    "\n",
    "def sample_arm_UTC(average_reward_arm_a,average_reward_arm_b, num_trial_arm_A, num_trial_arm_B, delta):\n",
    "    confidence_bound_a = average_reward_arm_a + math.sqrt(2*math.log(1/delta)/(num_trial_arm_A + 1))\n",
    "    confidence_bound_b = average_reward_arm_b + math.sqrt(2*math.log(1/delta)/(num_trial_arm_B + 1))\n",
    "    if confidence_bound_a > confidence_bound_b:\n",
    "        return 'A'\n",
    "    else:\n",
    "        return 'B'"
   ]
  },
  {
   "cell_type": "code",
   "execution_count": 104,
   "metadata": {},
   "outputs": [
    {
     "data": {
      "image/png": "[encoded data removed]",
      "text/plain": [
       "<Figure size 720x432 with 1 Axes>"
      ]
     },
     "metadata": {
      "needs_background": "light"
     },
     "output_type": "display_data"
    }
   ],
   "source": [
    "# Code for problem 4.2\n",
    "\n",
    "num_simulations = 100\n",
    "T = 1000\n",
    "delta = 1/T**2\n",
    "naT = np.zeros(T)\n",
    "v = np.zeros(T)\n",
    "\n",
    "for sim in range(num_simulations):\n",
    "    num_trial_arm_a = 0\n",
    "    num_trial_arm_b = 0\n",
    "    average_reward_arm_a = 0\n",
    "    average_reward_arm_b = 0\n",
    "    for t in range(1, T+1):\n",
    "        chosen_arm = sample_arm_UTC(average_reward_arm_a, average_reward_arm_b, num_trial_arm_a, num_trial_arm_b, delta)\n",
    "        if chosen_arm=='A':\n",
    "            reward = np.random.normal(5, 1)\n",
    "            num_trial_arm_a+=1\n",
    "            average_reward_arm_a = (average_reward_arm_a*(num_trial_arm_a-1)+reward)/num_trial_arm_a\n",
    "            naT[t-1]+=1\n",
    "        else:\n",
    "            reward = np.random.normal(5.1, 1)\n",
    "            num_trial_arm_b+=1\n",
    "            average_reward_arm_b = (average_reward_arm_b*(num_trial_arm_b-1)+reward)/num_trial_arm_b\n",
    "            \n",
    "for i in range (T):\n",
    "    naT[i]/=num_simulations\n",
    "    \n",
    "cumulative = 0\n",
    "for i in range (T):\n",
    "    cumulative+=naT[i]\n",
    "    v[i]+=cumulative\n",
    "\n",
    "plt.figure(figsize=(10, 6))\n",
    "plt.plot(range(1, T + 1), naT, label='naT')\n",
    "plt.plot(range(1, T + 1), v, label='v')\n",
    "plt.xlabel('t')\n",
    "plt.ylabel('v')\n",
    "plt.legend()\n",
    "plt.title('Arm A Selection Over Time')\n",
    "plt.show()"
   ]
  },
  {
   "cell_type": "markdown",
   "metadata": {},
   "source": [
    "Compared to both the greedy and the ETC algorithm, UTC seems to have to have the overall smallest number of arm A being selected over the 1000 time period. It is also different than the other two as it grows exponentially."
   ]
  },
  {
   "cell_type": "code",
   "execution_count": 105,
   "metadata": {},
   "outputs": [
    {
     "data": {
      "image/png": "[encoded data removed]",
      "text/plain": [
       "<Figure size 720x432 with 1 Axes>"
      ]
     },
     "metadata": {
      "needs_background": "light"
     },
     "output_type": "display_data"
    }
   ],
   "source": [
    "# Code for problem 4.3\n",
    "\n",
    "num_simulations = 100\n",
    "T = 200\n",
    "delta = 1/T\n",
    "naT = np.zeros(T)\n",
    "v = np.zeros(T)\n",
    "\n",
    "for sim in range(num_simulations):\n",
    "    num_trial_arm_a = 0\n",
    "    num_trial_arm_b = 0\n",
    "    average_reward_arm_a = 0\n",
    "    average_reward_arm_b = 0\n",
    "    for t in range(1, T+1):\n",
    "        chosen_arm = sample_arm_UTC(average_reward_arm_a, average_reward_arm_b, num_trial_arm_a, num_trial_arm_b, delta)\n",
    "        if chosen_arm=='A':\n",
    "            reward = np.random.normal(5, 1)\n",
    "            num_trial_arm_a+=1\n",
    "            average_reward_arm_a = (average_reward_arm_a*(num_trial_arm_a-1)+reward)/num_trial_arm_a\n",
    "            naT[t-1]+=1\n",
    "        else:\n",
    "            reward = np.random.normal(5.1, 1)\n",
    "            num_trial_arm_b+=1\n",
    "            average_reward_arm_b = (average_reward_arm_b*(num_trial_arm_b-1)+reward)/num_trial_arm_b\n",
    "            \n",
    "for i in range (T):\n",
    "    naT[i]/=num_simulations\n",
    "    \n",
    "cumulative = 0\n",
    "for i in range (T):\n",
    "    cumulative+=naT[i]\n",
    "    v[i]+=cumulative\n",
    "\n",
    "plt.figure(figsize=(10, 6))\n",
    "plt.plot(range(1, T + 1), naT, label='naT')\n",
    "plt.plot(range(1, T + 1), v, label='v')\n",
    "plt.xlabel('t')\n",
    "plt.ylabel('v')\n",
    "plt.legend()\n",
    "plt.title('Arm A Selection Over Time')\n",
    "plt.show()"
   ]
  },
  {
   "cell_type": "markdown",
   "metadata": {},
   "source": [
    "The choice of sigma seems to affect how often arm A will be picked as this time, arm A wasn't picked at all."
   ]
  },
  {
   "cell_type": "markdown",
   "metadata": {},
   "source": [
    "## Part 4 (60 Points): Finally, let us think a little bit more about the theory and aplicability of Multi-Armed Bandits.\n",
    "\n",
    "Please answer the following questions. Each question is worth 10 points. Last question is worth 20 points.\n",
    "\n",
    "Q1: Can an agent completely eliminate regret in a multi-armed bandit scenario? Why or why not?\n",
    "\n",
    "Q2:What strategies might be effective in handling scenarios where reward distributions change over time?\n",
    "\n",
    "Q3:How might multi-armed bandits be utilized in optimizing decision-making in industries like healthcare, finance, or technology?\n",
    "\n",
    "Q4:Are there scenarios where the exploration-exploitation trade-off becomes particularly difficult to manage?\n",
    "\n",
    "Q5 (20 points): Explain Thompson Sampling as a way to solve this problem (as a way to achieve Exploration/Exploitation balance). You will need to use the Bayes' update rule, so first you should explain the Bayes' update rule. For that, you can give an example. You can explain Thompson Sampling Algorithm better with a detailed pseudo-code that consist of the Bayesin updates.\n",
    "\n"
   ]
  },
  {
   "cell_type": "markdown",
   "metadata": {},
   "source": [
    "Q1: No because there will always be some for of regret when using these algorithms. It is probabilistic based and these algorithms use that or training to determine which is the best option. This means there will always be some form of error leading to regret.\n",
    "\n",
    "\n",
    "Q2: Algorithms or ways to implement something that will always learn over time can fix this. This may cause the runtime of the algorithm to be longer, but it will be more accurate as it can always be learning and decide which is the best option.\n",
    "\n",
    "\n",
    "Q3: It can help decide between multiple choices by learning. For example in healthcare, it can learn from which age groups a disease is more likely to occur or in finance, it could help determine which stock has the best returns in realtime.\n",
    "\n",
    "\n",
    "Q4: Yes. In high changing environments or if there is a high cost of picking a wrong choice, the trade-offs will become difficult to manage as benefiting one over the other can cause significant drawbacks down the line.\n",
    "\n",
    "\n",
    "Q5: Bayes' update rule is basically updating probability based on new information. This means it will constantly be updating its probability. An example of this is the healthcare example mentioned before. As new information comes in about which ages a disease is affecting, you can update your probabilities. Thompson Sampling can solve the problems as it runs simulations from previous data to decide the best option to pick. After it picks the option, it waits to see the result and it Bayesian updates the probabilites for the next time. This means it is always changing and adapting to new environments and it can solve the previously mentioned problem."
   ]
  }
 ],
 "metadata": {
  "kernelspec": {
   "display_name": "Python 3 (ipykernel)",
   "language": "python",
   "name": "python3"
  },
  "language_info": {
   "codemirror_mode": {
    "name": "ipython",
    "version": 3
   },
   "file_extension": ".py",
   "mimetype": "text/x-python",
   "name": "python",
   "nbconvert_exporter": "python",
   "pygments_lexer": "ipython3",
   "version": "3.10.0"
  },
  "pycharm": {
   "stem_cell": {
    "cell_type": "raw",
    "metadata": {
     "collapsed": false
    },
    "source": []
   }
  }
 },
 "nbformat": 4,
 "nbformat_minor": 2
}
